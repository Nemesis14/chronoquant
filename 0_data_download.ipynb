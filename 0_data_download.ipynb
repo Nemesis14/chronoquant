{
 "cells": [
  {
   "cell_type": "markdown",
   "id": "75603000",
   "metadata": {},
   "source": [
    "# base data\n",
    "\n",
    "download the data from net - test phase"
   ]
  },
  {
   "cell_type": "code",
   "execution_count": null,
   "id": "4cad8c11",
   "metadata": {},
   "outputs": [],
   "source": [
    "# =============================================================================\n",
    "# IMPORTS\n",
    "# =============================================================================\n",
    "from binance.client import Client\n",
    "import pandas as pd\n",
    "import time\n",
    "import os\n",
    "import urllib3\n",
    "import json\n",
    "\n",
    "# =============================================================================\n",
    "# DISABLE SSL WARNINGS (SINCE verify=False IS USED)\n",
    "# =============================================================================\n",
    "urllib3.disable_warnings(urllib3.exceptions.InsecureRequestWarning)\n",
    "\n",
    "# =============================================================================\n",
    "# LOAD API KEYS FROM EXTERNAL JSON FILE\n",
    "# =============================================================================\n",
    "keys_path = \"C:/connection/binance_keys.json\"\n",
    "\n",
    "with open(keys_path, 'r') as f:\n",
    "    keys = json.load(f)\n",
    "\n",
    "API_KEY    = keys['api_key']\n",
    "API_SECRET = keys['api_secret']\n",
    "\n",
    "# =============================================================================\n",
    "# INITIALIZE BINANCE CLIENT WITH DISABLED CERTIFICATE VERIFICATION\n",
    "# =============================================================================\n",
    "client = Client(API_KEY, API_SECRET, {\"verify\": False})"
   ]
  },
  {
   "cell_type": "code",
   "execution_count": 3,
   "id": "0b8fafcf",
   "metadata": {},
   "outputs": [],
   "source": [
    "# =============================================================================\n",
    "# DEFINE TIME RANGE FOR HISTORICAL DATA\n",
    "# =============================================================================\n",
    "from datetime import datetime\n",
    "\n",
    "symbol   = 'BCHUSDT'\n",
    "interval = Client.KLINE_INTERVAL_1MINUTE\n",
    "start    = '1 Jan, 2017'\n",
    "end      = datetime.now().strftime(\"%d %b, %Y\")\n",
    "\n",
    "# =============================================================================\n",
    "# FETCH FULL HISTORICAL 1-MINUTE CANDLE DATA FROM BINANCE\n",
    "# =============================================================================\n",
    "raw_data = client.get_historical_klines(\n",
    "    symbol, interval, start, end\n",
    ")\n"
   ]
  },
  {
   "cell_type": "code",
   "execution_count": 6,
   "id": "cc85add5",
   "metadata": {},
   "outputs": [
    {
     "name": "stdout",
     "output_type": "stream",
     "text": [
      "Data saved to data/bchusdt_1m_full.parquet\n"
     ]
    }
   ],
   "source": [
    "# =============================================================================\n",
    "# CONVERT RAW DATA TO CLEANED DATAFRAME\n",
    "# =============================================================================\n",
    "import pandas as pd\n",
    "import os\n",
    "\n",
    "# Create DataFrame with appropriate column names\n",
    "df = pd.DataFrame(\n",
    "    raw_data,\n",
    "    columns = [\n",
    "        'open_time', 'open', 'high', 'low', 'close', 'volume',\n",
    "        'close_time', 'quote_asset_volume', 'number_of_trades',\n",
    "        'taker_buy_base', 'taker_buy_quote', 'ignore'\n",
    "    ]\n",
    ")\n",
    "\n",
    "# Convert timestamps to datetime\n",
    "df['open_time']  = pd.to_datetime(df['open_time'] , unit='ms')\n",
    "df['close_time'] = pd.to_datetime(df['close_time'], unit='ms')\n",
    "\n",
    "# Convert numeric columns to float\n",
    "numeric_cols = ['open', 'high', 'low', 'close', 'volume']\n",
    "df[numeric_cols] = df[numeric_cols].astype(float)\n",
    "\n",
    "# Keep only relevant columns\n",
    "df = df[['open_time', 'open', 'high', 'low', 'close', 'volume']]\n",
    "\n",
    "# =============================================================================\n",
    "# SAVE DATAFRAME TO PARQUET FILE IN 'data' FOLDER\n",
    "# =============================================================================\n",
    "os.makedirs('data', exist_ok=True)\n",
    "\n",
    "output_path = 'data/bchusdt_1m_full.parquet'\n",
    "df.to_parquet(output_path, index=False)\n",
    "\n",
    "print(f\"Data saved to {output_path}\")\n"
   ]
  }
 ],
 "metadata": {
  "kernelspec": {
   "display_name": "Python 3",
   "language": "python",
   "name": "python3"
  },
  "language_info": {
   "codemirror_mode": {
    "name": "ipython",
    "version": 3
   },
   "file_extension": ".py",
   "mimetype": "text/x-python",
   "name": "python",
   "nbconvert_exporter": "python",
   "pygments_lexer": "ipython3",
   "version": "3.11.2"
  }
 },
 "nbformat": 4,
 "nbformat_minor": 5
}
