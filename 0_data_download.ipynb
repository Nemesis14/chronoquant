# =============================================================================
# IMPORTS
# =============================================================================
from binance.client import Client
import pandas as pd
import time
import os
import urllib3
import json

# =============================================================================
# DISABLE SSL WARNINGS (SINCE verify=False IS USED)
# =============================================================================
urllib3.disable_warnings(urllib3.exceptions.InsecureRequestWarning)

# =============================================================================
# LOAD API KEYS FROM EXTERNAL JSON FILE
# =============================================================================
keys_path = "C:/connection/binance_keys.json"

with open(keys_path, 'r') as f:
    keys = json.load(f)

API_KEY    = keys['api_key']
API_SECRET = keys['api_secret']

# =============================================================================
# INITIALIZE BINANCE CLIENT WITH DISABLED CERTIFICATE VERIFICATION
# =============================================================================
client = Client(API_KEY, API_SECRET, {"verify": False})
