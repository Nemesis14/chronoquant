{
 "cells": [
  {
   "cell_type": "markdown",
   "id": "77467fb5",
   "metadata": {},
   "source": [
    "# bch coin - first app"
   ]
  },
  {
   "cell_type": "code",
   "execution_count": null,
   "id": "d0e33ff2",
   "metadata": {},
   "outputs": [
    {
     "name": "stdout",
     "output_type": "stream",
     "text": [
      "removed existing database file: bchusdt_data.db\n",
      "created table 'bchusdt_1m' in database: bchusdt_data.db\n"
     ]
    }
   ],
   "source": [
    "# =============================================================================\n",
    "# drop and recreate the sqlite database and bchusdt_1m table (composite pk)\n",
    "# =============================================================================\n",
    "import os\n",
    "import sqlite3\n",
    "\n",
    "# =============================================================================\n",
    "# database path and table name\n",
    "# =============================================================================\n",
    "db_path   = \"bchusdt_data.db\"\n",
    "table     = \"bchusdt_1m\"\n",
    "\n",
    "# =============================================================================\n",
    "# remove existing database file to fully reset\n",
    "# =============================================================================\n",
    "if os.path.exists(db_path):\n",
    "    os.remove(db_path)\n",
    "    print(f\"removed existing database file: {db_path}\")\n",
    "else:\n",
    "    print(f\"no existing database file to remove: {db_path}\")\n",
    "\n",
    "# =============================================================================\n",
    "# recreate database and table\n",
    "# - both open_time_ms and open_time are part of the primary key (composite pk)\n",
    "# - both are implicitly not null due to primary key constraint\n",
    "# - other columns are nullable (no NOT NULL)\n",
    "# - unique constraints on each time column enforce individual uniqueness\n",
    "# =============================================================================\n",
    "conn      = sqlite3.connect(db_path)\n",
    "cursor    = conn.cursor()\n",
    "\n",
    "cursor.execute(f\"\"\"\n",
    "    CREATE TABLE IF NOT EXISTS {table} (\n",
    "        open_time_ms  INTEGER,\n",
    "        open_time     TEXT,\n",
    "        open          REAL,\n",
    "        high          REAL,\n",
    "        low           REAL,\n",
    "        close         REAL,\n",
    "        volume        REAL,\n",
    "        PRIMARY KEY (open_time_ms, open_time),\n",
    "        UNIQUE (open_time_ms),\n",
    "        UNIQUE (open_time)\n",
    "    )\n",
    "\"\"\")\n",
    "\n",
    "conn.commit()\n",
    "conn.close()\n",
    "print(f\"created table '{table}' in database: {db_path}\")"
   ]
  }
 ],
 "metadata": {
  "kernelspec": {
   "display_name": "Python 3",
   "language": "python",
   "name": "python3"
  },
  "language_info": {
   "codemirror_mode": {
    "name": "ipython",
    "version": 3
   },
   "file_extension": ".py",
   "mimetype": "text/x-python",
   "name": "python",
   "nbconvert_exporter": "python",
   "pygments_lexer": "ipython3",
   "version": "3.12.2"
  }
 },
 "nbformat": 4,
 "nbformat_minor": 5
}
