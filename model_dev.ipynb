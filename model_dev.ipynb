{
 "cells": [
  {
   "cell_type": "markdown",
   "id": "51da7b47",
   "metadata": {},
   "source": [
    "# model"
   ]
  },
  {
   "cell_type": "code",
   "execution_count": null,
   "id": "09d446ce",
   "metadata": {},
   "outputs": [
    {
     "name": "stdout",
     "output_type": "stream",
     "text": [
      "Optimization terminated successfully.\n",
      "         Current function value: 0.369084\n",
      "         Iterations 8\n"
     ]
    },
    {
     "data": {
      "text/html": [
       "<table class=\"simpletable\">\n",
       "<tr>\n",
       "         <td></td>            <th>coef</th>     <th>std err</th>      <th>z</th>      <th>P>|z|</th>  <th>[0.025</th>    <th>0.975]</th>  \n",
       "</tr>\n",
       "<tr>\n",
       "  <th>rsi_backward_14</th> <td>   -0.0072</td> <td>    0.016</td> <td>   -0.438</td> <td> 0.661</td> <td>   -0.039</td> <td>    0.025</td>\n",
       "</tr>\n",
       "<tr>\n",
       "  <th>roc_14</th>          <td>   -1.1961</td> <td>    0.779</td> <td>   -1.536</td> <td> 0.125</td> <td>   -2.722</td> <td>    0.330</td>\n",
       "</tr>\n",
       "<tr>\n",
       "  <th>roc_140</th>         <td>   -1.2750</td> <td>    0.275</td> <td>   -4.640</td> <td> 0.000</td> <td>   -1.813</td> <td>   -0.736</td>\n",
       "</tr>\n",
       "<tr>\n",
       "  <th>macd_diff</th>       <td>    3.3175</td> <td>    1.651</td> <td>    2.010</td> <td> 0.044</td> <td>    0.082</td> <td>    6.553</td>\n",
       "</tr>\n",
       "<tr>\n",
       "  <th>sma_ratio_14</th>    <td> -154.4463</td> <td>   61.343</td> <td>   -2.518</td> <td> 0.012</td> <td> -274.677</td> <td>  -34.215</td>\n",
       "</tr>\n",
       "<tr>\n",
       "  <th>sma_ratio_140</th>   <td>  152.9291</td> <td>   61.434</td> <td>    2.489</td> <td> 0.013</td> <td>   32.520</td> <td>  273.338</td>\n",
       "</tr>\n",
       "<tr>\n",
       "  <th>bb_width_14</th>     <td>    1.1825</td> <td>    0.315</td> <td>    3.756</td> <td> 0.000</td> <td>    0.565</td> <td>    1.800</td>\n",
       "</tr>\n",
       "<tr>\n",
       "  <th>bb_width_140</th>    <td>   -0.4395</td> <td>    0.198</td> <td>   -2.219</td> <td> 0.027</td> <td>   -0.828</td> <td>   -0.051</td>\n",
       "</tr>\n",
       "</table>"
      ],
      "text/latex": [
       "\\begin{center}\n",
       "\\begin{tabular}{lcccccc}\n",
       "\\toprule\n",
       "                           & \\textbf{coef} & \\textbf{std err} & \\textbf{z} & \\textbf{P$> |$z$|$} & \\textbf{[0.025} & \\textbf{0.975]}  \\\\\n",
       "\\midrule\n",
       "\\textbf{rsi\\_backward\\_14} &      -0.0072  &        0.016     &    -0.438  &         0.661        &       -0.039    &        0.025     \\\\\n",
       "\\textbf{roc\\_14}           &      -1.1961  &        0.779     &    -1.536  &         0.125        &       -2.722    &        0.330     \\\\\n",
       "\\textbf{roc\\_140}          &      -1.2750  &        0.275     &    -4.640  &         0.000        &       -1.813    &       -0.736     \\\\\n",
       "\\textbf{macd\\_diff}        &       3.3175  &        1.651     &     2.010  &         0.044        &        0.082    &        6.553     \\\\\n",
       "\\textbf{sma\\_ratio\\_14}    &    -154.4463  &       61.343     &    -2.518  &         0.012        &     -274.677    &      -34.215     \\\\\n",
       "\\textbf{sma\\_ratio\\_140}   &     152.9291  &       61.434     &     2.489  &         0.013        &       32.520    &      273.338     \\\\\n",
       "\\textbf{bb\\_width\\_14}     &       1.1825  &        0.315     &     3.756  &         0.000        &        0.565    &        1.800     \\\\\n",
       "\\textbf{bb\\_width\\_140}    &      -0.4395  &        0.198     &    -2.219  &         0.027        &       -0.828    &       -0.051     \\\\\n",
       "\\bottomrule\n",
       "\\end{tabular}\n",
       "\\end{center}"
      ],
      "text/plain": [
       "<class 'statsmodels.iolib.table.SimpleTable'>"
      ]
     },
     "metadata": {},
     "output_type": "display_data"
    }
   ],
   "source": [
    "import statsmodels.api as sm\n",
    "\n",
    "# =============================================================================\n",
    "# CREATE df_sample BY FILTERING df\n",
    "# =============================================================================\n",
    "# Drop rows with NA in any explanatory variable\n",
    "df_sample = df.dropna()\n",
    "\n",
    "# Exclude the most recent 240 minutes of observations\n",
    "cutoff_time = df_sample.index.max() - pd.Timedelta(minutes = ROLLING_WINDOW)\n",
    "df_sample   = df_sample[df_sample.index < cutoff_time]\n",
    "\n",
    "# =============================================================================\n",
    "# LOGISTIC REGRESSION MODEL (sm)\n",
    "# =============================================================================\n",
    "# Define explanatory variables (X) and target variable (y)\n",
    "X = df_sample[features]\n",
    "y = df_sample[target]\n",
    "\n",
    "# Fit the logistic regression model\n",
    "logit_model = sm.Logit(y, X)\n",
    "result      = logit_model.fit()\n",
    "\n",
    "# Display the second table (tables[1]) from the summary report\n",
    "display(result.summary().tables[1])"
   ]
  }
 ],
 "metadata": {
  "language_info": {
   "name": "python"
  }
 },
 "nbformat": 4,
 "nbformat_minor": 5
}
