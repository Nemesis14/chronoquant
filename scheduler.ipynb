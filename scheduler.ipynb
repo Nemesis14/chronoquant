{
 "cells": [
  {
   "cell_type": "code",
   "execution_count": null,
   "id": "b7c244cd",
   "metadata": {},
   "outputs": [],
   "source": [
    "import time\n",
    "from data_sync import sync_data\n",
    "\n",
    "# Scheduler: Call sync_data every 30 seconds\n",
    "try:\n",
    "    while True:\n",
    "        print(\"Starting sync...\")\n",
    "        sync_data()\n",
    "        print(\"Sync completed. Waiting for the next cycle...\")\n",
    "        time.sleep(30)  # Wait 30 seconds\n",
    "except KeyboardInterrupt:\n",
    "    print(\"Scheduler interrupted. Exiting...\")"
   ]
  }
 ],
 "metadata": {
  "language_info": {
   "name": "python"
  }
 },
 "nbformat": 4,
 "nbformat_minor": 5
}
