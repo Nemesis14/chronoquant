{
 "cells": [
  {
   "cell_type": "markdown",
   "id": "40491d34",
   "metadata": {},
   "source": [
    "# API kulcs"
   ]
  },
  {
   "cell_type": "code",
   "execution_count": 4,
   "id": "7f32584b",
   "metadata": {},
   "outputs": [
    {
     "name": "stdout",
     "output_type": "stream",
     "text": [
      "API kulcs betöltve: True\n"
     ]
    }
   ],
   "source": [
    "import json\n",
    "\n",
    "# JSON fájl útvonala\n",
    "keys_path = \"C:/connection/binance_keys.json\"\n",
    "\n",
    "# Fájl beolvasása\n",
    "with open(keys_path, 'r') as f:\n",
    "    keys = json.load(f)\n",
    "\n",
    "api_key    = keys['api_key']\n",
    "api_secret = keys['api_secret']\n",
    "\n",
    "# Ellenőrzéshez\n",
    "print(\"API kulcs betöltve:\", api_key is not None)\n"
   ]
  }
 ],
 "metadata": {
  "kernelspec": {
   "display_name": "Python 3",
   "language": "python",
   "name": "python3"
  },
  "language_info": {
   "codemirror_mode": {
    "name": "ipython",
    "version": 3
   },
   "file_extension": ".py",
   "mimetype": "text/x-python",
   "name": "python",
   "nbconvert_exporter": "python",
   "pygments_lexer": "ipython3",
   "version": "3.11.2"
  }
 },
 "nbformat": 4,
 "nbformat_minor": 5
}
