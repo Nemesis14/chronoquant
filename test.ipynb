{
 "cells": [
  {
   "cell_type": "markdown",
   "id": "40491d34",
   "metadata": {},
   "source": [
    "# API kulcs"
   ]
  },
  {
   "cell_type": "code",
   "execution_count": 4,
   "id": "7f32584b",
   "metadata": {},
   "outputs": [
    {
     "name": "stdout",
     "output_type": "stream",
     "text": [
      "API kulcs betöltve: True\n"
     ]
    }
   ],
   "source": [
    "import json\n",
    "\n",
    "# JSON fájl útvonala\n",
    "keys_path = \"C:/connection/binance_keys.json\"\n",
    "\n",
    "# Fájl beolvasása\n",
    "with open(keys_path, 'r') as f:\n",
    "    keys = json.load(f)\n",
    "\n",
    "api_key    = keys['api_key']\n",
    "api_secret = keys['api_secret']\n",
    "\n",
    "# Ellenőrzéshez\n",
    "print(\"API kulcs betöltve:\", api_key is not None)\n"
   ]
  },
  {
   "cell_type": "markdown",
   "id": "3b9de3bc",
   "metadata": {},
   "source": [
    "# target prep"
   ]
  },
  {
   "cell_type": "code",
   "execution_count": null,
   "id": "5fa480c3",
   "metadata": {},
   "outputs": [
    {
     "name": "stdout",
     "output_type": "stream",
     "text": [
      "Resulting DataFrame:\n"
     ]
    },
    {
     "data": {
      "text/html": [
       "<div>\n",
       "<style scoped>\n",
       "    .dataframe tbody tr th:only-of-type {\n",
       "        vertical-align: middle;\n",
       "    }\n",
       "\n",
       "    .dataframe tbody tr th {\n",
       "        vertical-align: top;\n",
       "    }\n",
       "\n",
       "    .dataframe thead th {\n",
       "        text-align: right;\n",
       "    }\n",
       "</style>\n",
       "<table border=\"1\" class=\"dataframe\">\n",
       "  <thead>\n",
       "    <tr style=\"text-align: right;\">\n",
       "      <th></th>\n",
       "      <th>p50</th>\n",
       "      <th>p75</th>\n",
       "      <th>p90</th>\n",
       "    </tr>\n",
       "  </thead>\n",
       "  <tbody>\n",
       "    <tr>\n",
       "      <th>ratio</th>\n",
       "      <td>1.00829</td>\n",
       "      <td>1.0158</td>\n",
       "      <td>1.027591</td>\n",
       "    </tr>\n",
       "  </tbody>\n",
       "</table>\n",
       "</div>"
      ],
      "text/plain": [
       "           p50     p75       p90\n",
       "ratio  1.00829  1.0158  1.027591"
      ]
     },
     "metadata": {},
     "output_type": "display_data"
    }
   ],
   "source": [
    "import prep_target as pt\n",
    "import importlib\n",
    "importlib.reload(pt)\n",
    "\n",
    "# Define test parameters\n",
    "table          = \"bchusdt_1m\"\n",
    "open_time_from = \"2007-01-01 00:00\"\n",
    "open_time_to   = \"2025-10-21 00:00\"\n",
    "window         = 240  # 4 hours in minutes\n",
    "\n",
    "# Run the function\n",
    "try:\n",
    "    percentiles_df = pt.calculate_target_percentiles(\n",
    "        table          = table,\n",
    "        open_time_from = open_time_from,\n",
    "        open_time_to   = open_time_to,\n",
    "        window         = window\n",
    "    )\n",
    "    print(\"Resulting DataFrame:\")\n",
    "    display(percentiles_df)\n",
    "except ValueError as e:\n",
    "    print(f\"Error: {e}\")"
   ]
  }
 ],
 "metadata": {
  "kernelspec": {
   "display_name": "Python 3",
   "language": "python",
   "name": "python3"
  },
  "language_info": {
   "codemirror_mode": {
    "name": "ipython",
    "version": 3
   },
   "file_extension": ".py",
   "mimetype": "text/x-python",
   "name": "python",
   "nbconvert_exporter": "python",
   "pygments_lexer": "ipython3",
   "version": "3.12.2"
  }
 },
 "nbformat": 4,
 "nbformat_minor": 5
}
